{
 "cells": [
  {
   "cell_type": "markdown",
   "id": "888486d7",
   "metadata": {},
   "source": [
    "Bag of Visual Words"
   ]
  },
  {
   "cell_type": "markdown",
   "id": "dcf6ba79",
   "metadata": {},
   "source": [
    "The objective of this notebook, is classify the dataset of animals_10, using the tecniche with the name \"Bag ov visual words\".\n",
    "Lets go to start the libraries that we can use for this."
   ]
  },
  {
   "cell_type": "code",
   "execution_count": 1,
   "id": "1124ff15",
   "metadata": {},
   "outputs": [],
   "source": [
    "import os\n",
    "\n",
    "import numpy as np\n",
    "import cv2 as cv\n",
    "import splitfolders\n",
    "\n",
    "from sklearn.ensemble import RandomForestClassifier\n",
    "from sklearn.svm import SVC\n",
    "from sklearn.cluster import KMeans"
   ]
  },
  {
   "cell_type": "markdown",
   "id": "0aebbc7f",
   "metadata": {},
   "source": [
    "Our dataset have random names, and in some cases, had big directories. For convenience, lets rename the images in the subfoders, with the name of class. This can help us to know what is the class of image, withou open and see the image."
   ]
  },
  {
   "cell_type": "code",
   "execution_count": 16,
   "id": "bd5677e8",
   "metadata": {},
   "outputs": [],
   "source": [
    "class PreprocessDataset: \n",
    "    def __init__(self):\n",
    "        pass\n",
    "    \n",
    "    def rename_images_with_labels(self, path_to_folder: str) -> None:\n",
    "        \"\"\"Rename the images with you correspondent label\"\"\"\n",
    "        for label in os.listdir(path_to_folder):\n",
    "            images_list = []\n",
    "            count = 0\n",
    "            folder_path = path_to_folder + label\n",
    "            for name_image in os.listdir(folder_path):\n",
    "                img_path = folder_path + '/' + name_image\n",
    "                extension_img = img_path.split('.')[-1]\n",
    "                new_name = f'{folder_path}/{label}_{count}.{extension_img}'\n",
    "                os.rename(img_path, new_name)\n",
    "                count += 1\n",
    "        print(\"Dataset Images Was Renamed\")\n",
    "        \n",
    "    def create_default_dataset(self, path_to_folder: str, path_to_save: str, percent_of_images: list = [0.75, 0.20, 0.05]):\n",
    "        \"\"\"Create a dataset with the structure: train, test, validation. \"\"\"\n",
    "        train_percent = percent_of_images[0]\n",
    "        test_percet = percent_of_images[1]\n",
    "        val_percent = percent_of_images[2]\n",
    "\n",
    "        splitfolders.ratio(f\"{path_to_folder}\", # The location of dataset\n",
    "                       output=f\"{path_to_save}\", # The output location\n",
    "                       seed=42, # The number of seed\n",
    "                       ratio=(train_percent, val_percent, test_percet), # The ratio of splited dataset\n",
    "                       group_prefix=True, # If your dataset contains more than one file like \".jpg\", \".pdf\", etc\n",
    "                       move=False # If you choose to move, turn this into True\n",
    "                       )"
   ]
  },
  {
   "cell_type": "code",
   "execution_count": 15,
   "id": "f449dec7",
   "metadata": {},
   "outputs": [
    {
     "name": "stdout",
     "output_type": "stream",
     "text": [
      "Dataset Images Was Renamed\n"
     ]
    }
   ],
   "source": [
    "path_to_dataset = './dataset/raw-img/'\n",
    "preprocess = PreprocessDataset()\n",
    "preprocess.rename_images_with_labels(path_to_dataset)"
   ]
  },
  {
   "cell_type": "markdown",
   "id": "a922d1af",
   "metadata": {},
   "source": [
    "Before to continue, letg go to divide our dataset images in \"train\", \"test\", \"validation\"."
   ]
  },
  {
   "cell_type": "code",
   "execution_count": 17,
   "id": "89e826f2",
   "metadata": {},
   "outputs": [
    {
     "name": "stderr",
     "output_type": "stream",
     "text": [
      "Copying files: 26179 files [00:26, 974.70 files/s] \n"
     ]
    }
   ],
   "source": [
    "path_to_save = './dataset_animals/'\n",
    "\n",
    "preprocess.create_default_dataset(path_to_dataset, path_to_save)"
   ]
  },
  {
   "cell_type": "code",
   "execution_count": null,
   "id": "1e3d0c84",
   "metadata": {},
   "outputs": [],
   "source": []
  }
 ],
 "metadata": {
  "kernelspec": {
   "display_name": "Python 3 (ipykernel)",
   "language": "python",
   "name": "python3"
  },
  "language_info": {
   "codemirror_mode": {
    "name": "ipython",
    "version": 3
   },
   "file_extension": ".py",
   "mimetype": "text/x-python",
   "name": "python",
   "nbconvert_exporter": "python",
   "pygments_lexer": "ipython3",
   "version": "3.10.6"
  }
 },
 "nbformat": 4,
 "nbformat_minor": 5
}
